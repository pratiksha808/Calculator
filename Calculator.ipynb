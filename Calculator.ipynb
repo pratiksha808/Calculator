{
 "cells": [
  {
   "cell_type": "markdown",
   "metadata": {
    "id": "ZoX1vsne78hk"
   },
   "source": [
    "**Write a program to make a calculator which perform operations like Addition , Subtraction , Multiplication etc on Two numbers input by the user.**"
   ]
  },
  {
   "cell_type": "code",
   "execution_count": null,
   "metadata": {
    "colab": {
     "base_uri": "https://localhost:8080/"
    },
    "id": "6Sy0uQp78Y8p",
    "outputId": "ba498256-a014-4d94-f7a7-6abace1ae77d"
   },
   "outputs": [
    {
     "name": "stdout",
     "output_type": "stream",
     "text": [
      "Enter two numbers operation: 22.12/2\n",
      "Division of number 22.12 and 2.0 is 11.06\n"
     ]
    }
   ],
   "source": [
    "'''Defining basic mathematical functions and variable  '''\n",
    "\n",
    "num1 = \"\"\n",
    "oprand = \"\"\n",
    "num2 = \"\"\n",
    "oprand_list = [\"+\", \"-\", \"*\", \"/\"]\n",
    "\n",
    "def sum(a, b):\n",
    "\n",
    "    output = a + b\n",
    "\n",
    "    return output\n",
    "\n",
    "def subtraction(a, b):\n",
    "\n",
    "    output = a - b\n",
    "\n",
    "    return output\n",
    "\n",
    "def multiplication(a, b):\n",
    "\n",
    "    output = a * b\n",
    "\n",
    "    return output\n",
    "\n",
    "def division(a, b):\n",
    "\n",
    "    output = a/b\n",
    "\n",
    "    return output\n",
    "\n",
    "operation = input(\"Enter two numbers operation: \")\n",
    "\n",
    "''' Creating a empty operation list and removing spaces if any available in given input'''\n",
    "\n",
    "op_list = []\n",
    "\n",
    "for i in operation:\n",
    "    if i != \" \":\n",
    "        op_list.append(i)\n",
    "\n",
    "copy_op_list = op_list.copy()\n",
    "\n",
    "'''Extracting number and operator from input\n",
    "oprand_list = [\"+\", \"-\", \"*\", \"/\"] '''\n",
    "\n",
    "for n in op_list:\n",
    "    if n not in oprand_list:\n",
    "        num1 = num1+n\n",
    "        copy_op_list.remove(n)\n",
    "\n",
    "    else:\n",
    "        if n in oprand_list:\n",
    "            oprand = n\n",
    "            copy_op_list.remove(n)\n",
    "            for i in copy_op_list:\n",
    "                num2 = num2 + i\n",
    "            break\n",
    "\n",
    "\n",
    "'''Extracted number and main operation'''\n",
    "\n",
    "num1 = float(num1)\n",
    "num2 = float(num2)\n",
    "\n",
    "if oprand == \"+\":\n",
    "    sum = sum(num1, num2)\n",
    "    print(\"Addition of number\",num1,\"and\",num2, \"is\", sum)\n",
    "\n",
    "if oprand == \"-\":\n",
    "    subtraction = subtraction(num1, num2)\n",
    "    print(\"Subtraction of number\",num1,\"and\",num2, \"is\",subtraction)\n",
    "\n",
    "if oprand == \"*\":\n",
    "    multiplication = multiplication(num1, num2)\n",
    "    print(\"Multiplication of number\",num1,\"and\",num2, \"is\",multiplication)\n",
    "\n",
    "if oprand == \"/\":\n",
    "    try:\n",
    "        division = division(num1, num2)\n",
    "        print(\"Division of number\",num1,\"and\",num2, \"is\",division)\n",
    "    except:\n",
    "        ZeroDivisionError\n",
    "        print(\"Number divided by zero is not possible\")\n",
    "        "
   ]
  }
 ],
 "metadata": {
  "colab": {
   "collapsed_sections": [],
   "name": "Calculator_Miniproject.ipynb",
   "provenance": []
  },
  "kernelspec": {
   "display_name": "Python 3",
   "language": "python",
   "name": "python3"
  },
  "language_info": {
   "codemirror_mode": {
    "name": "ipython",
    "version": 3
   },
   "file_extension": ".py",
   "mimetype": "text/x-python",
   "name": "python",
   "nbconvert_exporter": "python",
   "pygments_lexer": "ipython3",
   "version": "3.8.8"
  }
 },
 "nbformat": 4,
 "nbformat_minor": 1
}
